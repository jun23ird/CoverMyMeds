{
 "cells": [
  {
   "cell_type": "markdown",
   "id": "9bd00665",
   "metadata": {},
   "source": [
    "# Pharmacy claim approval(exploaratory data analysis)\n",
    "Jeeuhn Kim"
   ]
  },
  {
   "cell_type": "code",
   "execution_count": 1,
   "id": "bd34c877",
   "metadata": {},
   "outputs": [],
   "source": [
    "import pandas as pd\n",
    "import numpy as np\n",
    "import matplotlib.pyplot as plt\n",
    "import seaborn as sns\n",
    "sns.set_style(\"whitegrid\")\n",
    "from sklearn.model_selection import train_test_split, StratifiedKFold\n",
    "from sklearn.metrics import accuracy_score, confusion_matrix\n",
    "from sklearn.metrics import precision_score,recall_score, f1_score, roc_auc_score\n",
    "import warnings\n",
    "warnings.filterwarnings('ignore')"
   ]
  },
  {
   "cell_type": "code",
   "execution_count": 2,
   "id": "e8d4fa11",
   "metadata": {
    "scrolled": true
   },
   "outputs": [
    {
     "name": "stdout",
     "output_type": "stream",
     "text": [
      "<class 'pandas.core.frame.DataFrame'>\n",
      "RangeIndex: 1335576 entries, 0 to 1335575\n",
      "Data columns (total 5 columns):\n",
      " #   Column                   Non-Null Count    Dtype  \n",
      "---  ------                   --------------    -----  \n",
      " 0   dim_claim_id             1335576 non-null  int64  \n",
      " 1   bin                      1335576 non-null  int64  \n",
      " 2   drug                     1335576 non-null  object \n",
      " 3   reject_code              555951 non-null   float64\n",
      " 4   pharmacy_claim_approved  1335576 non-null  int64  \n",
      "dtypes: float64(1), int64(3), object(1)\n",
      "memory usage: 50.9+ MB\n"
     ]
    }
   ],
   "source": [
    "#loading data\n",
    "claim = pd.read_csv('dim_claims.csv')\n",
    "claim.info()"
   ]
  },
  {
   "cell_type": "code",
   "execution_count": 3,
   "id": "6c844ccd",
   "metadata": {},
   "outputs": [],
   "source": [
    "# change bin numbers to letters to simplify notation\n",
    "\n",
    "claim.loc[claim.bin ==  417380, 'bin'] = 'x'\n",
    "claim.loc[claim.bin ==  417614, 'bin'] = 'y'\n",
    "claim.loc[claim.bin ==  417740, 'bin'] = 'z'\n",
    "claim.loc[claim.bin ==  999001, 'bin'] = 'w'"
   ]
  },
  {
   "cell_type": "code",
   "execution_count": 4,
   "id": "c3d6f194",
   "metadata": {},
   "outputs": [],
   "source": [
    "# one hot encoding of categorical variable 'drug'\n",
    "for i in pd.get_dummies(claim.drug).columns :\n",
    "    claim.loc[:,i] = pd.get_dummies(claim.drug).loc[:,i].copy()"
   ]
  },
  {
   "cell_type": "code",
   "execution_count": 5,
   "id": "6714c13c",
   "metadata": {},
   "outputs": [],
   "source": [
    "# one hot encoding of categorical variable 'bin'\n",
    "for i in pd.get_dummies(claim.bin).columns :\n",
    "    claim.loc[:,i] = pd.get_dummies(claim.bin).loc[:, i].copy()"
   ]
  },
  {
   "cell_type": "code",
   "execution_count": 6,
   "id": "9639602d",
   "metadata": {},
   "outputs": [
    {
     "data": {
      "text/plain": [
       "Index(['dim_claim_id', 'bin', 'drug', 'reject_code', 'pharmacy_claim_approved',\n",
       "       'A', 'B', 'C', 'w', 'x', 'y', 'z'],\n",
       "      dtype='object')"
      ]
     },
     "execution_count": 6,
     "metadata": {},
     "output_type": "execute_result"
    }
   ],
   "source": [
    "claim.columns"
   ]
  },
  {
   "cell_type": "code",
   "execution_count": 7,
   "id": "24088359",
   "metadata": {},
   "outputs": [],
   "source": [
    "# make a new dataframe that only involves one hot encoded features\n",
    "X = claim.iloc[:, 5:12].copy()\n",
    "# make a new dataframe that only involves target variable\n",
    "y = claim.iloc[:, 4].copy()"
   ]
  },
  {
   "cell_type": "code",
   "execution_count": 8,
   "id": "5905fec7",
   "metadata": {},
   "outputs": [
    {
     "data": {
      "text/plain": [
       "pandas.core.frame.DataFrame"
      ]
     },
     "execution_count": 8,
     "metadata": {},
     "output_type": "execute_result"
    }
   ],
   "source": [
    "# split data into training set and test set with test set size =.2 stratified by the target classes\n",
    "X_train, X_test, y_train, y_test= train_test_split(X.copy(), y.copy(),\n",
    "                                  shuffle = True,\n",
    "                                  random_state = 623,\n",
    "                                  test_size = .2,\n",
    "                                  stratify = claim.pharmacy_claim_approved)\n",
    "type(X_train)"
   ]
  },
  {
   "cell_type": "code",
   "execution_count": 9,
   "id": "c9625ade",
   "metadata": {
    "scrolled": true
   },
   "outputs": [],
   "source": [
    "# dataframe whose rows are drug types and the column is the corresponding approval rates\n",
    "data = {'A': ['A', X_train[X_train.A == 1][y_train == 1].shape[0]/X_train[X_train.A == 1].shape[0]], \n",
    "        'B': ['B', X_train[X_train.B == 1][y_train == 1].shape[0]/X_train[X_train.B == 1].shape[0]], \n",
    "        'C': ['C', X_train[X_train.C == 1][y_train == 1].shape[0]/X_train[X_train.C == 1].shape[0]]}\n",
    "\n",
    "\n",
    "df=pd.DataFrame.from_dict(data, orient='index',\n",
    "                  columns=['type', 'approval_rate'])"
   ]
  },
  {
   "cell_type": "code",
   "execution_count": 10,
   "id": "ba361c83",
   "metadata": {
    "scrolled": true
   },
   "outputs": [
    {
     "data": {
      "text/plain": [
       "[Text(0.5, 1.0, 'Approval rate for each BIN')]"
      ]
     },
     "execution_count": 10,
     "metadata": {},
     "output_type": "execute_result"
    },
    {
     "data": {
      "image/png": "[encoded data removed]",
      "text/plain": [
       "<Figure size 432x288 with 1 Axes>"
      ]
     },
     "metadata": {},
     "output_type": "display_data"
    }
   ],
   "source": [
    "# dataframe whose rows are BINs and \n",
    "# the column is the corresponding approval rates\n",
    "data = {'x': ['x',X_train[X_train.x == 1][y_train ==1].shape[0]/X_train[X_train.x == 1].shape[0]], \n",
    "        'y': ['y',X_train[X_train.y == 1][y_train ==1].shape[0]/X_train[X_train.y == 1].shape[0]], \n",
    "        'z': ['z',X_train[X_train.z == 1][y_train ==1].shape[0]/X_train[X_train.z == 1].shape[0]],\n",
    "        'w': ['w',X_train[X_train.w == 1][y_train ==1].shape[0]/X_train[X_train.w == 1].shape[0]]}\n",
    "\n",
    "\n",
    "df = pd.DataFrame.from_dict(data, orient='index',\n",
    "                  columns=['type','approval_rate'])\n",
    "\n",
    "sns.barplot(data=df, x=\"type\", y='approval_rate').set(title = 'Approval rate for each BIN')"
   ]
  },
  {
   "cell_type": "code",
   "execution_count": 11,
   "id": "3a2fb4f8",
   "metadata": {},
   "outputs": [
    {
     "data": {
      "text/plain": [
       "[Text(0.5, 1.0, 'Approval Rate for each Drug (Bin=x)')]"
      ]
     },
     "execution_count": 11,
     "metadata": {},
     "output_type": "execute_result"
    },
    {
     "data": {
      "image/png": "[encoded data removed]",
      "text/plain": [
       "<Figure size 432x288 with 1 Axes>"
      ]
     },
     "metadata": {},
     "output_type": "display_data"
    }
   ],
   "source": [
    "# dataframe whose rows are drug types and \n",
    "# the column is the corresponding approval rates restricted to BIN ='x'\n",
    "data = {'A': ['A', X_train[X_train.A == 1][y_train == 1][X_train.x == 1].shape[0]/X_train[X_train.A == 1][X_train.x == 1].shape[0]], \n",
    "        'B': ['B', X_train[X_train.B == 1][y_train == 1][X_train.x == 1].shape[0]/X_train[X_train.B == 1][X_train.x == 1].shape[0]], \n",
    "        'C': ['C', X_train[X_train.C == 1][y_train == 1][X_train.x == 1].shape[0]/X_train[X_train.C == 1][X_train.x == 1].shape[0]]}\n",
    "\n",
    "\n",
    "df=pd.DataFrame.from_dict(data, orient='index',\n",
    "                  columns=['type', 'approval_rate'])\n",
    "\n",
    "\n",
    "sns.barplot(data=df, x=\"type\", y='approval_rate').set(title = 'Approval Rate for each Drug (Bin=x)' )"
   ]
  },
  {
   "cell_type": "code",
   "execution_count": 12,
   "id": "a50593c2",
   "metadata": {},
   "outputs": [
    {
     "data": {
      "text/plain": [
       "[Text(0.5, 1.0, 'Approval Rate for each Drug (Bin=y)')]"
      ]
     },
     "execution_count": 12,
     "metadata": {},
     "output_type": "execute_result"
    },
    {
     "data": {
      "image/png": "[encoded data removed]",
      "text/plain": [
       "<Figure size 432x288 with 1 Axes>"
      ]
     },
     "metadata": {},
     "output_type": "display_data"
    }
   ],
   "source": [
    "# dataframe whose rows are drug types and \n",
    "# the column is the corresponding approval rates restricted to BIN ='y'\n",
    "data = {'A': ['A', X_train[X_train.A == 1][y_train == 1][X_train.y == 1].shape[0]/X_train[X_train.A == 1][X_train.y == 1].shape[0]], \n",
    "        'B': ['B', X_train[X_train.B == 1][y_train == 1][X_train.y == 1].shape[0]/X_train[X_train.B == 1][X_train.y == 1].shape[0]], \n",
    "        'C': ['C', X_train[X_train.C == 1][y_train == 1][X_train.y == 1].shape[0]/X_train[X_train.C == 1][X_train.y == 1].shape[0]]}\n",
    "\n",
    "\n",
    "df=pd.DataFrame.from_dict(data, orient='index',\n",
    "                  columns=['type', 'approval_rate'])\n",
    "\n",
    "\n",
    "sns.barplot(data=df, x=\"type\", y='approval_rate').set(title = 'Approval Rate for each Drug (Bin=y)' )"
   ]
  },
  {
   "cell_type": "code",
   "execution_count": 13,
   "id": "4c364e12",
   "metadata": {},
   "outputs": [
    {
     "data": {
      "text/plain": [
       "[Text(0.5, 1.0, 'Approval Rate for each Drug (Bin=z)')]"
      ]
     },
     "execution_count": 13,
     "metadata": {},
     "output_type": "execute_result"
    },
    {
     "data": {
      "image/png": "[encoded data removed]",
      "text/plain": [
       "<Figure size 432x288 with 1 Axes>"
      ]
     },
     "metadata": {},
     "output_type": "display_data"
    }
   ],
   "source": [
    "# dataframe whose rows are drug types and \n",
    "# the column is the corresponding approval rates restricted to BIN ='z'\n",
    "data = {'A': ['A', X_train[X_train.A == 1][y_train == 1][X_train.z == 1].shape[0]/X_train[X_train.A == 1][X_train.z == 1].shape[0]], \n",
    "        'B': ['B', X_train[X_train.B == 1][y_train == 1][X_train.z == 1].shape[0]/X_train[X_train.B == 1][X_train.z == 1].shape[0]], \n",
    "        'C': ['C', X_train[X_train.C == 1][y_train == 1][X_train.z == 1].shape[0]/X_train[X_train.C == 1][X_train.z == 1].shape[0]]}\n",
    "\n",
    "\n",
    "df=pd.DataFrame.from_dict(data, orient='index',\n",
    "                  columns=['type', 'approval_rate'])\n",
    "\n",
    "\n",
    "sns.barplot(data=df, x=\"type\", y='approval_rate').set(title = 'Approval Rate for each Drug (Bin=z)' )"
   ]
  },
  {
   "cell_type": "code",
   "execution_count": 14,
   "id": "437fb8bd",
   "metadata": {
    "scrolled": true
   },
   "outputs": [
    {
     "data": {
      "text/plain": [
       "[Text(0.5, 1.0, 'Approval Rate for each Drug (Bin=x)')]"
      ]
     },
     "execution_count": 14,
     "metadata": {},
     "output_type": "execute_result"
    },
    {
     "data": {
      "image/png": "[encoded data removed]",
      "text/plain": [
       "<Figure size 432x288 with 1 Axes>"
      ]
     },
     "metadata": {},
     "output_type": "display_data"
    }
   ],
   "source": [
    "# dataframe whose rows are drug types and \n",
    "# the column is the corresponding approval rates restricted to BIN ='w'\n",
    "data = {'A': ['A', X_train[X_train.A == 1][y_train == 1][X_train.w == 1].shape[0]/X_train[X_train.A == 1][X_train.w == 1].shape[0]], \n",
    "        'B': ['B', X_train[X_train.B == 1][y_train == 1][X_train.w == 1].shape[0]/X_train[X_train.B == 1][X_train.w == 1].shape[0]], \n",
    "        'C': ['C', X_train[X_train.C == 1][y_train == 1][X_train.w == 1].shape[0]/X_train[X_train.C == 1][X_train.w == 1].shape[0]]}\n",
    "\n",
    "\n",
    "df=pd.DataFrame.from_dict(data, orient='index',\n",
    "                  columns=['type', 'approval_rate'])\n",
    "\n",
    "\n",
    "sns.barplot(data=df, x=\"type\", y='approval_rate').set(title = 'Approval Rate for each Drug (Bin=x)' )"
   ]
  }
 ],
 "metadata": {
  "kernelspec": {
   "display_name": "Python 3 (ipykernel)",
   "language": "python",
   "name": "python3"
  },
  "language_info": {
   "codemirror_mode": {
    "name": "ipython",
    "version": 3
   },
   "file_extension": ".py",
   "mimetype": "text/x-python",
   "name": "python",
   "nbconvert_exporter": "python",
   "pygments_lexer": "ipython3",
   "version": "3.9.12"
  }
 },
 "nbformat": 4,
 "nbformat_minor": 5
}
