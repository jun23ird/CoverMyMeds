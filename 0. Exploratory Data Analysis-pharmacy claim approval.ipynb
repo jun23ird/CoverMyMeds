{
 "cells": [
  {
   "cell_type": "markdown",
   "id": "9bd00665",
   "metadata": {},
   "source": [
    "# Exploratory Data Analysis - pharmacy claim approval"
   ]
  },
  {
   "cell_type": "markdown",
   "id": "6d0d9fbe",
   "metadata": {},
   "source": [
    "### Project Goal  : build a model predicting  `pharmacy_claim_approved` based on the features `bin` and `drug`<br>\n",
    "- `bin`  The BIN of the payer(insurance company) for the claim.\n",
    "- `drug`   The drug that was associated with the claim.<br>\n",
    "<br><br>Detailed background knowledge has been explained in the Readme file."
   ]
  },
  {
   "cell_type": "markdown",
   "id": "4be1da9c",
   "metadata": {},
   "source": [
    "In this notebook, we will explore<br>\n",
    "- the relative frequency distributions of the variables `bin`,`drug` and `pharmacy_claim_approved`.\n",
    "- the relative frequency value distributions of the feature `pharmacy_claim_approval` for every possible combinations of `bin` and `drug` values."
   ]
  },
  {
   "cell_type": "markdown",
   "id": "9350b005",
   "metadata": {},
   "source": [
    "# 0. Data Preprocessing"
   ]
  },
  {
   "cell_type": "markdown",
   "id": "fc819558",
   "metadata": {},
   "source": [
    "- Load and merge data into a single dataframe.\n",
    "- Split data into three parts 'pre(process)', 'train' and 'test'.\n",
    "- We will only use `X_pre` and `y_pre` for the exploaratory data analysis to avoid data leakage."
   ]
  },
  {
   "cell_type": "code",
   "execution_count": 1,
   "id": "bd34c877",
   "metadata": {},
   "outputs": [],
   "source": [
    "import pandas as pd\n",
    "import numpy as np\n",
    "import matplotlib.pyplot as plt\n",
    "import seaborn as sns\n",
    "sns.set_style(\"whitegrid\")\n",
    "from sklearn.model_selection import train_test_split, StratifiedKFold\n",
    "from sklearn.metrics import accuracy_score, confusion_matrix\n",
    "from sklearn.metrics import precision_score,recall_score, f1_score, roc_auc_score\n",
    "import warnings\n",
    "warnings.filterwarnings('ignore')"
   ]
  },
  {
   "cell_type": "code",
   "execution_count": 2,
   "id": "e8d4fa11",
   "metadata": {
    "scrolled": true
   },
   "outputs": [
    {
     "name": "stdout",
     "output_type": "stream",
     "text": [
      "<class 'pandas.core.frame.DataFrame'>\n",
      "RangeIndex: 1335576 entries, 0 to 1335575\n",
      "Data columns (total 5 columns):\n",
      " #   Column                   Non-Null Count    Dtype  \n",
      "---  ------                   --------------    -----  \n",
      " 0   dim_claim_id             1335576 non-null  int64  \n",
      " 1   bin                      1335576 non-null  int64  \n",
      " 2   drug                     1335576 non-null  object \n",
      " 3   reject_code              555951 non-null   float64\n",
      " 4   pharmacy_claim_approved  1335576 non-null  int64  \n",
      "dtypes: float64(1), int64(3), object(1)\n",
      "memory usage: 50.9+ MB\n"
     ]
    }
   ],
   "source": [
    "#load data\n",
    "claim = pd.read_csv('data/dim_claims.csv')\n",
    "claim.info()"
   ]
  },
  {
   "cell_type": "code",
   "execution_count": 3,
   "id": "9639602d",
   "metadata": {},
   "outputs": [
    {
     "data": {
      "text/plain": [
       "Index(['dim_claim_id', 'bin', 'drug', 'reject_code',\n",
       "       'pharmacy_claim_approved'],\n",
       "      dtype='object')"
      ]
     },
     "execution_count": 3,
     "metadata": {},
     "output_type": "execute_result"
    }
   ],
   "source": [
    "claim.columns"
   ]
  },
  {
   "cell_type": "code",
   "execution_count": 4,
   "id": "24088359",
   "metadata": {},
   "outputs": [],
   "source": [
    "# features\n",
    "X = claim.iloc[:, 1:3].copy()\n",
    "# target variable\n",
    "y = claim.iloc[:, 4].copy()"
   ]
  },
  {
   "cell_type": "code",
   "execution_count": 5,
   "id": "db8c5849",
   "metadata": {
    "scrolled": true
   },
   "outputs": [
    {
     "data": {
      "text/html": [
       "<div>\n",
       "<style scoped>\n",
       "    .dataframe tbody tr th:only-of-type {\n",
       "        vertical-align: middle;\n",
       "    }\n",
       "\n",
       "    .dataframe tbody tr th {\n",
       "        vertical-align: top;\n",
       "    }\n",
       "\n",
       "    .dataframe thead th {\n",
       "        text-align: right;\n",
       "    }\n",
       "</style>\n",
       "<table border=\"1\" class=\"dataframe\">\n",
       "  <thead>\n",
       "    <tr style=\"text-align: right;\">\n",
       "      <th></th>\n",
       "      <th>bin</th>\n",
       "      <th>drug</th>\n",
       "    </tr>\n",
       "  </thead>\n",
       "  <tbody>\n",
       "    <tr>\n",
       "      <th>0</th>\n",
       "      <td>417380</td>\n",
       "      <td>A</td>\n",
       "    </tr>\n",
       "    <tr>\n",
       "      <th>1</th>\n",
       "      <td>999001</td>\n",
       "      <td>A</td>\n",
       "    </tr>\n",
       "    <tr>\n",
       "      <th>2</th>\n",
       "      <td>417740</td>\n",
       "      <td>A</td>\n",
       "    </tr>\n",
       "    <tr>\n",
       "      <th>3</th>\n",
       "      <td>999001</td>\n",
       "      <td>A</td>\n",
       "    </tr>\n",
       "    <tr>\n",
       "      <th>4</th>\n",
       "      <td>417740</td>\n",
       "      <td>A</td>\n",
       "    </tr>\n",
       "  </tbody>\n",
       "</table>\n",
       "</div>"
      ],
      "text/plain": [
       "      bin drug\n",
       "0  417380    A\n",
       "1  999001    A\n",
       "2  417740    A\n",
       "3  999001    A\n",
       "4  417740    A"
      ]
     },
     "execution_count": 5,
     "metadata": {},
     "output_type": "execute_result"
    }
   ],
   "source": [
    "X.head()"
   ]
  },
  {
   "cell_type": "code",
   "execution_count": 6,
   "id": "f905cf43",
   "metadata": {},
   "outputs": [
    {
     "data": {
      "text/plain": [
       "0    0\n",
       "1    1\n",
       "2    0\n",
       "3    1\n",
       "4    1\n",
       "Name: pharmacy_claim_approved, dtype: int64"
      ]
     },
     "execution_count": 6,
     "metadata": {},
     "output_type": "execute_result"
    }
   ],
   "source": [
    "y.head()"
   ]
  },
  {
   "cell_type": "code",
   "execution_count": 7,
   "id": "5905fec7",
   "metadata": {},
   "outputs": [],
   "source": [
    "# data split preprocess : train : test = 3:1:1\n",
    "X_train, X_test, y_train, y_test= train_test_split(X.copy(), y.copy(),\n",
    "                                  shuffle = True,\n",
    "                                  random_state = 623,\n",
    "                                  test_size = .2,\n",
    "                                  stratify = claim.pharmacy_claim_approved)\n",
    "X_pre, X_train, y_pre, y_train= train_test_split(X_train.copy(), y_train.copy(),\n",
    "                                                 shuffle = True,\n",
    "                                                 random_state = 623,\n",
    "                                                 test_size = .25,\n",
    "                                                 stratify = y_train.copy())"
   ]
  },
  {
   "cell_type": "code",
   "execution_count": 8,
   "id": "f855c55e",
   "metadata": {},
   "outputs": [
    {
     "data": {
      "text/plain": [
       "0    0\n",
       "1    1\n",
       "2    0\n",
       "3    1\n",
       "4    1\n",
       "Name: pharmacy_claim_approved, dtype: int64"
      ]
     },
     "execution_count": 8,
     "metadata": {},
     "output_type": "execute_result"
    }
   ],
   "source": [
    "y.head()"
   ]
  },
  {
   "cell_type": "markdown",
   "id": "f4a6cb0c",
   "metadata": {},
   "source": [
    "# 1. Relative Frequency Value Distribution"
   ]
  },
  {
   "cell_type": "markdown",
   "id": "20e8d784",
   "metadata": {},
   "source": [
    "## -bin-"
   ]
  },
  {
   "cell_type": "code",
   "execution_count": 9,
   "id": "d8b45a0d",
   "metadata": {},
   "outputs": [
    {
     "data": {
      "text/plain": [
       "array([417380, 999001, 417614, 417740])"
      ]
     },
     "execution_count": 9,
     "metadata": {},
     "output_type": "execute_result"
    }
   ],
   "source": [
    "X_pre.bin.unique()"
   ]
  },
  {
   "cell_type": "code",
   "execution_count": 10,
   "id": "ba361c83",
   "metadata": {
    "scrolled": false
   },
   "outputs": [
    {
     "data": {
      "text/html": [
       "<div>\n",
       "<style scoped>\n",
       "    .dataframe tbody tr th:only-of-type {\n",
       "        vertical-align: middle;\n",
       "    }\n",
       "\n",
       "    .dataframe tbody tr th {\n",
       "        vertical-align: top;\n",
       "    }\n",
       "\n",
       "    .dataframe thead th {\n",
       "        text-align: right;\n",
       "    }\n",
       "</style>\n",
       "<table border=\"1\" class=\"dataframe\">\n",
       "  <thead>\n",
       "    <tr style=\"text-align: right;\">\n",
       "      <th></th>\n",
       "      <th>approval_rate</th>\n",
       "    </tr>\n",
       "  </thead>\n",
       "  <tbody>\n",
       "    <tr>\n",
       "      <th>417380</th>\n",
       "      <td>0.230119</td>\n",
       "    </tr>\n",
       "    <tr>\n",
       "      <th>999001</th>\n",
       "      <td>0.900342</td>\n",
       "    </tr>\n",
       "    <tr>\n",
       "      <th>417614</th>\n",
       "      <td>0.211364</td>\n",
       "    </tr>\n",
       "    <tr>\n",
       "      <th>417740</th>\n",
       "      <td>0.457546</td>\n",
       "    </tr>\n",
       "  </tbody>\n",
       "</table>\n",
       "</div>"
      ],
      "text/plain": [
       "        approval_rate\n",
       "417380       0.230119\n",
       "999001       0.900342\n",
       "417614       0.211364\n",
       "417740       0.457546"
      ]
     },
     "execution_count": 10,
     "metadata": {},
     "output_type": "execute_result"
    },
    {
     "data": {
      "image/png": "[encoded data removed]",
      "text/plain": [
       "<Figure size 432x288 with 1 Axes>"
      ]
     },
     "metadata": {},
     "output_type": "display_data"
    }
   ],
   "source": [
    "# dictionary => keys : BINs , values : the approval rates within fixed BINs\n",
    "data = {X_pre.bin.unique()[0]: [X_pre.bin.unique()[0], X_pre[X_pre.bin == X_pre.bin.unique()[0]][y_pre ==1].shape[0]/X_pre[X_pre.bin == X_pre.bin.unique()[0]].shape[0]], \n",
    "        X_pre.bin.unique()[1]: [X_pre.bin.unique()[1], X_pre[X_pre.bin == X_pre.bin.unique()[1]][y_pre ==1].shape[0]/X_pre[X_pre.bin == X_pre.bin.unique()[1]].shape[0]], \n",
    "        X_pre.bin.unique()[2]: [X_pre.bin.unique()[2], X_pre[X_pre.bin == X_pre.bin.unique()[2]][y_pre ==1].shape[0]/X_pre[X_pre.bin == X_pre.bin.unique()[2]].shape[0]],\n",
    "        X_pre.bin.unique()[3]: [X_pre.bin.unique()[3], X_pre[X_pre.bin == X_pre.bin.unique()[3]][y_pre ==1].shape[0]/X_pre[X_pre.bin == X_pre.bin.unique()[3]].shape[0]]}\n",
    "\n",
    "# dataframe => rows : BINs , columns : the approval rates within fixed BINs\n",
    "df = pd.DataFrame.from_dict(data, orient='index',\n",
    "                  columns=['type','approval_rate'])\n",
    "# bar chart\n",
    "sns.barplot(data=df, x=\"type\", y='approval_rate').set(title = 'Approval rate for each BIN')\n",
    "df.drop('type', axis =1)"
   ]
  },
  {
   "cell_type": "markdown",
   "id": "2f5a687d",
   "metadata": {},
   "source": [
    "## -drug-"
   ]
  },
  {
   "cell_type": "code",
   "execution_count": 11,
   "id": "3edd1e18",
   "metadata": {
    "scrolled": true
   },
   "outputs": [
    {
     "data": {
      "text/plain": [
       "array(['A', 'C', 'B'], dtype=object)"
      ]
     },
     "execution_count": 11,
     "metadata": {},
     "output_type": "execute_result"
    }
   ],
   "source": [
    "X_pre.drug.unique()"
   ]
  },
  {
   "cell_type": "code",
   "execution_count": 12,
   "id": "c9625ade",
   "metadata": {
    "scrolled": true
   },
   "outputs": [
    {
     "data": {
      "text/html": [
       "<div>\n",
       "<style scoped>\n",
       "    .dataframe tbody tr th:only-of-type {\n",
       "        vertical-align: middle;\n",
       "    }\n",
       "\n",
       "    .dataframe tbody tr th {\n",
       "        vertical-align: top;\n",
       "    }\n",
       "\n",
       "    .dataframe thead th {\n",
       "        text-align: right;\n",
       "    }\n",
       "</style>\n",
       "<table border=\"1\" class=\"dataframe\">\n",
       "  <thead>\n",
       "    <tr style=\"text-align: right;\">\n",
       "      <th></th>\n",
       "      <th>approval_rate</th>\n",
       "    </tr>\n",
       "  </thead>\n",
       "  <tbody>\n",
       "    <tr>\n",
       "      <th>A</th>\n",
       "      <td>0.575618</td>\n",
       "    </tr>\n",
       "    <tr>\n",
       "      <th>B</th>\n",
       "      <td>0.549615</td>\n",
       "    </tr>\n",
       "    <tr>\n",
       "      <th>C</th>\n",
       "      <td>0.638584</td>\n",
       "    </tr>\n",
       "  </tbody>\n",
       "</table>\n",
       "</div>"
      ],
      "text/plain": [
       "   approval_rate\n",
       "A       0.575618\n",
       "B       0.549615\n",
       "C       0.638584"
      ]
     },
     "execution_count": 12,
     "metadata": {},
     "output_type": "execute_result"
    },
    {
     "data": {
      "image/png": "[encoded data removed]",
      "text/plain": [
       "<Figure size 432x288 with 1 Axes>"
      ]
     },
     "metadata": {},
     "output_type": "display_data"
    }
   ],
   "source": [
    "# dictionary => keys : drug types , values : the approval rates within fixed drug types\n",
    "data = {'A':  ['A', X_pre[X_pre.drug == 'A'][y_pre == 1].shape[0]/X_pre[X_pre.drug == 'A'].shape[0]], \n",
    "        'B':  ['B', X_pre[X_pre.drug == 'B'][y_pre == 1].shape[0]/X_pre[X_pre.drug == 'B'].shape[0]], \n",
    "        'C':  ['C', X_pre[X_pre.drug == 'C'][y_pre == 1].shape[0]/X_pre[X_pre.drug == 'C'].shape[0]]}\n",
    "\n",
    "# dataframe => rows : drug types , columns : the approval rates within fixed drug types\n",
    "df=pd.DataFrame.from_dict(data, orient='index',\n",
    "                  columns=['type','approval_rate'])\n",
    "# bar chart\n",
    "sns.barplot(data=df, x=\"type\", y='approval_rate').set(title = 'Approval rate for each BIN')\n",
    "df.drop('type', axis =1)"
   ]
  },
  {
   "cell_type": "markdown",
   "id": "f592b9ff",
   "metadata": {},
   "source": [
    "# 2. Pharmacy Claim Approval Rates for Fixed 'bin' and 'drug' Values"
   ]
  },
  {
   "cell_type": "code",
   "execution_count": 13,
   "id": "c67d0de1",
   "metadata": {
    "scrolled": true
   },
   "outputs": [
    {
     "name": "stdout",
     "output_type": "stream",
     "text": [
      "(BIN, drug type) = ( 417380 , A )\n",
      "approval_rate : 0.0\n",
      "disapproval_rate : 1.0\n"
     ]
    },
    {
     "data": {
      "image/png": "[encoded data removed]",
      "text/plain": [
       "<Figure size 432x288 with 1 Axes>"
      ]
     },
     "metadata": {},
     "output_type": "display_data"
    },
    {
     "name": "stdout",
     "output_type": "stream",
     "text": [
      "(BIN, drug type) = ( 417380 , C )\n",
      "approval_rate : 0.0\n",
      "disapproval_rate : 1.0\n"
     ]
    },
    {
     "data": {
      "image/png": "[encoded data removed]",
      "text/plain": [
       "<Figure size 432x288 with 1 Axes>"
      ]
     },
     "metadata": {},
     "output_type": "display_data"
    },
    {
     "name": "stdout",
     "output_type": "stream",
     "text": [
      "(BIN, drug type) = ( 417380 , B )\n",
      "approval_rate : 0.901\n",
      "disapproval_rate : 0.099\n"
     ]
    },
    {
     "data": {
      "image/png": "[encoded data removed]",
      "text/plain": [
       "<Figure size 432x288 with 1 Axes>"
      ]
     },
     "metadata": {},
     "output_type": "display_data"
    },
    {
     "name": "stdout",
     "output_type": "stream",
     "text": [
      "(BIN, drug type) = ( 999001 , A )\n",
      "approval_rate : 0.901\n",
      "disapproval_rate : 0.099\n"
     ]
    },
    {
     "data": {
      "image/png": "[encoded data removed]",
      "text/plain": [
       "<Figure size 432x288 with 1 Axes>"
      ]
     },
     "metadata": {},
     "output_type": "display_data"
    },
    {
     "name": "stdout",
     "output_type": "stream",
     "text": [
      "(BIN, drug type) = ( 999001 , C )\n",
      "approval_rate : 0.899\n",
      "disapproval_rate : 0.101\n"
     ]
    },
    {
     "data": {
      "image/png": "[encoded data removed]",
      "text/plain": [
       "<Figure size 432x288 with 1 Axes>"
      ]
     },
     "metadata": {},
     "output_type": "display_data"
    },
    {
     "name": "stdout",
     "output_type": "stream",
     "text": [
      "(BIN, drug type) = ( 999001 , B )\n",
      "approval_rate : 0.9\n",
      "disapproval_rate : 0.1\n"
     ]
    },
    {
     "data": {
      "image/png": "[encoded data removed]",
      "text/plain": [
       "<Figure size 432x288 with 1 Axes>"
      ]
     },
     "metadata": {},
     "output_type": "display_data"
    },
    {
     "name": "stdout",
     "output_type": "stream",
     "text": [
      "(BIN, drug type) = ( 417614 , A )\n",
      "approval_rate : 0.0\n",
      "disapproval_rate : 1.0\n"
     ]
    },
    {
     "data": {
      "image/png": "[encoded data removed]",
      "text/plain": [
       "<Figure size 432x288 with 1 Axes>"
      ]
     },
     "metadata": {},
     "output_type": "display_data"
    },
    {
     "name": "stdout",
     "output_type": "stream",
     "text": [
      "(BIN, drug type) = ( 417614 , C )\n",
      "approval_rate : 0.901\n",
      "disapproval_rate : 0.099\n"
     ]
    },
    {
     "data": {
      "image/png": "[encoded data removed]",
      "text/plain": [
       "<Figure size 432x288 with 1 Axes>"
      ]
     },
     "metadata": {},
     "output_type": "display_data"
    },
    {
     "name": "stdout",
     "output_type": "stream",
     "text": [
      "(BIN, drug type) = ( 417614 , B )\n",
      "approval_rate : 0.0\n",
      "disapproval_rate : 1.0\n"
     ]
    },
    {
     "data": {
      "image/png": "[encoded data removed]",
      "text/plain": [
       "<Figure size 432x288 with 1 Axes>"
      ]
     },
     "metadata": {},
     "output_type": "display_data"
    },
    {
     "name": "stdout",
     "output_type": "stream",
     "text": [
      "(BIN, drug type) = ( 417740 , A )\n",
      "approval_rate : 0.9\n",
      "disapproval_rate : 0.1\n"
     ]
    },
    {
     "data": {
      "image/png": "[encoded data removed]",
      "text/plain": [
       "<Figure size 432x288 with 1 Axes>"
      ]
     },
     "metadata": {},
     "output_type": "display_data"
    },
    {
     "name": "stdout",
     "output_type": "stream",
     "text": [
      "(BIN, drug type) = ( 417740 , C )\n",
      "approval_rate : 0.0\n",
      "disapproval_rate : 1.0\n"
     ]
    },
    {
     "data": {
      "image/png": "[encoded data removed]",
      "text/plain": [
       "<Figure size 432x288 with 1 Axes>"
      ]
     },
     "metadata": {},
     "output_type": "display_data"
    },
    {
     "name": "stdout",
     "output_type": "stream",
     "text": [
      "(BIN, drug type) = ( 417740 , B )\n",
      "approval_rate : 0.0\n",
      "disapproval_rate : 1.0\n"
     ]
    },
    {
     "data": {
      "image/png": "[encoded data removed]",
      "text/plain": [
       "<Figure size 432x288 with 1 Axes>"
      ]
     },
     "metadata": {},
     "output_type": "display_data"
    }
   ],
   "source": [
    "# the relative frequency distribution of the feature 'pharmacy_claim_approved' for fixed 'bin' and 'drug' values\n",
    "for i in X_pre.bin.unique() :\n",
    "    for j in X_pre.drug.unique() :\n",
    "        print('(BIN, drug type) =','(',i,',',j,')')\n",
    "        print('approval_rate :',round(y_pre.loc[(X_pre.bin == i) & (X_pre.drug == j) & (y_pre ==1)].shape[0]/y_pre[(X_pre.bin == i) & (X_pre.drug == j)].shape[0],3))\n",
    "        print('disapproval_rate :',round(y_pre.loc[(X_pre.bin == i) & (X_pre.drug == j) & (y_pre ==0)].shape[0]/y_pre[(X_pre.bin == i) & (X_pre.drug == j)].shape[0],3))\n",
    "        pa_approved_val = pd.DataFrame({1 : round(y_pre.loc[(X_pre.bin == i) & (X_pre.drug == j) & (y_pre ==1)].shape[0]/y_pre[(X_pre.bin == i) & (X_pre.drug == j)].shape[0],3),\n",
    "                                        0 : round(y_pre.loc[(X_pre.bin == i) & (X_pre.drug == j) & (y_pre ==0)].shape[0]/y_pre[(X_pre.bin == i) & (X_pre.drug == j)].shape[0],3)}\n",
    "                                        ,index = ['ratio'])\n",
    "        sns.barplot(data=pa_approved_val).set(title='(BIN, drug type) = '+str((i,j)))\n",
    "        plt.show()"
   ]
  },
  {
   "cell_type": "markdown",
   "id": "7ca79b4b",
   "metadata": {},
   "source": [
    "- We notice that when we fix the insurance company and drug type, pharmacy claims are almost always either approved or rejected in the same way.\n",
    "- This leads us to conjecture that each insurance company has a fixed policy for handling pharmacy claims for certain drugs.\n",
    "- We will further explore this idea in the sequel notebooks."
   ]
  }
 ],
 "metadata": {
  "kernelspec": {
   "display_name": "Python 3 (ipykernel)",
   "language": "python",
   "name": "python3"
  },
  "language_info": {
   "codemirror_mode": {
    "name": "ipython",
    "version": 3
   },
   "file_extension": ".py",
   "mimetype": "text/x-python",
   "name": "python",
   "nbconvert_exporter": "python",
   "pygments_lexer": "ipython3",
   "version": "3.9.12"
  }
 },
 "nbformat": 4,
 "nbformat_minor": 5
}
