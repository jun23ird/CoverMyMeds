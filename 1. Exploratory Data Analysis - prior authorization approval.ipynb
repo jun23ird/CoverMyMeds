{
 "cells": [
  {
   "cell_type": "markdown",
   "id": "fa624982",
   "metadata": {},
   "source": [
    "# Exploratory Data Analysis - prior authorization approval"
   ]
  },
  {
   "cell_type": "markdown",
   "id": "1187621a",
   "metadata": {},
   "source": [
    "### Project Goal  : build a model predicting  `pa_approved` based on the following features<br>\n",
    "- `bin`  The BIN of the payer(insurance company) for the claim.\n",
    "- `drug`   The drug that was associated with the claim.\n",
    "- `reject_code`   If the claim was rejected, what was the associated rejection code. It tells you the reason why the claim has been rejected.\n",
    "- `correct_diagnosis`    Flag for information provided by the provider indicating that the patient has the correct diagnosis for the associated drug.\n",
    "- `tried_and_failed`    Flag for information provided by the provider indicating that the patient has tried and failed the relevant generic alternatives.\n",
    "- `contraindication`    Flag for information provided by the provider indicating that the patient has an associated contraindication for the medication requested."
   ]
  },
  {
   "cell_type": "markdown",
   "id": "6a74d055",
   "metadata": {},
   "source": [
    "### summary\n",
    "In this notebook, <br>\n",
    "1. we plot the relative frequency distributions of the variables `bin`, `drug`, `correct_diagnosis`, `tried_and_failed`, `contraindication` and `pharmacy_claim_approved`.<br><br>\n",
    "2. To find a correlation between features,\n",
    "- Calculate Cramer's V correlations between features.\n",
    "- plot the relative frequency value distribution of the feature 'reject_code' for every possible combinations of 'bin' and 'drug' values. <br><br>\n",
    "3. To see if there is any interaction between features,\n",
    "- For each feature, we plot the approval rates for each value of the feature.\n",
    "- For each pair of features, we plot the heatmap of the approval rates for each pair of values."
   ]
  },
  {
   "cell_type": "markdown",
   "id": "06b9054a",
   "metadata": {},
   "source": [
    "As a result, we\n",
    "- Drop the redundant feature `reject_code`.\n",
    "- Add the interaction terms of (`bin`, `drug`), (`tried_and_faild`,`drug`) and (`contraindication`,`drug`)."
   ]
  },
  {
   "cell_type": "markdown",
   "id": "aad2afab",
   "metadata": {},
   "source": [
    "## 0. Data preprocessing"
   ]
  },
  {
   "cell_type": "markdown",
   "id": "79004e25",
   "metadata": {},
   "source": [
    "Load and merge data into a single dataframe."
   ]
  },
  {
   "cell_type": "code",
   "execution_count": 1,
   "id": "a00dfc98",
   "metadata": {},
   "outputs": [],
   "source": [
    "import pandas as pd\n",
    "import numpy as np\n",
    "import matplotlib.pyplot as plt\n",
    "import seaborn as sns\n",
    "sns.set_style(\"whitegrid\")\n",
    "from sklearn.model_selection import train_test_split\n",
    "import scipy.stats as stats"
   ]
  },
  {
   "cell_type": "code",
   "execution_count": 2,
   "id": "f67251d0",
   "metadata": {},
   "outputs": [],
   "source": [
    "# load data\n",
    "cl =pd.read_csv('data/dim_claims.csv')\n",
    "pa = pd.read_csv('data/dim_pa.csv')\n",
    "bridge = pd.read_csv('data/bridge.csv')"
   ]
  },
  {
   "cell_type": "code",
   "execution_count": 3,
   "id": "c77150a0",
   "metadata": {},
   "outputs": [],
   "source": [
    "# merge data\n",
    "claim = bridge.merge(cl.copy(), how = 'inner', on = 'dim_claim_id')\n",
    "claim = claim.dropna()\n",
    "claim = claim.merge(pa.copy(), how = 'inner', on = 'dim_pa_id')\n",
    "claim = claim.drop(['dim_claim_id','dim_date_id','pharmacy_claim_approved'], axis = 1)"
   ]
  },
  {
   "cell_type": "code",
   "execution_count": 4,
   "id": "fc4a0122",
   "metadata": {
    "scrolled": true
   },
   "outputs": [
    {
     "data": {
      "text/html": [
       "<div>\n",
       "<style scoped>\n",
       "    .dataframe tbody tr th:only-of-type {\n",
       "        vertical-align: middle;\n",
       "    }\n",
       "\n",
       "    .dataframe tbody tr th {\n",
       "        vertical-align: top;\n",
       "    }\n",
       "\n",
       "    .dataframe thead th {\n",
       "        text-align: right;\n",
       "    }\n",
       "</style>\n",
       "<table border=\"1\" class=\"dataframe\">\n",
       "  <thead>\n",
       "    <tr style=\"text-align: right;\">\n",
       "      <th></th>\n",
       "      <th>dim_pa_id</th>\n",
       "      <th>bin</th>\n",
       "      <th>drug</th>\n",
       "      <th>reject_code</th>\n",
       "      <th>correct_diagnosis</th>\n",
       "      <th>tried_and_failed</th>\n",
       "      <th>contraindication</th>\n",
       "      <th>pa_approved</th>\n",
       "    </tr>\n",
       "  </thead>\n",
       "  <tbody>\n",
       "    <tr>\n",
       "      <th>0</th>\n",
       "      <td>1.0</td>\n",
       "      <td>417380</td>\n",
       "      <td>A</td>\n",
       "      <td>75.0</td>\n",
       "      <td>1</td>\n",
       "      <td>1</td>\n",
       "      <td>0</td>\n",
       "      <td>1</td>\n",
       "    </tr>\n",
       "    <tr>\n",
       "      <th>1</th>\n",
       "      <td>2.0</td>\n",
       "      <td>417740</td>\n",
       "      <td>A</td>\n",
       "      <td>76.0</td>\n",
       "      <td>1</td>\n",
       "      <td>0</td>\n",
       "      <td>0</td>\n",
       "      <td>1</td>\n",
       "    </tr>\n",
       "    <tr>\n",
       "      <th>2</th>\n",
       "      <td>3.0</td>\n",
       "      <td>417380</td>\n",
       "      <td>A</td>\n",
       "      <td>75.0</td>\n",
       "      <td>0</td>\n",
       "      <td>0</td>\n",
       "      <td>1</td>\n",
       "      <td>1</td>\n",
       "    </tr>\n",
       "    <tr>\n",
       "      <th>3</th>\n",
       "      <td>4.0</td>\n",
       "      <td>999001</td>\n",
       "      <td>A</td>\n",
       "      <td>76.0</td>\n",
       "      <td>1</td>\n",
       "      <td>1</td>\n",
       "      <td>0</td>\n",
       "      <td>1</td>\n",
       "    </tr>\n",
       "    <tr>\n",
       "      <th>4</th>\n",
       "      <td>5.0</td>\n",
       "      <td>417614</td>\n",
       "      <td>A</td>\n",
       "      <td>70.0</td>\n",
       "      <td>0</td>\n",
       "      <td>1</td>\n",
       "      <td>0</td>\n",
       "      <td>1</td>\n",
       "    </tr>\n",
       "  </tbody>\n",
       "</table>\n",
       "</div>"
      ],
      "text/plain": [
       "   dim_pa_id     bin drug  reject_code  correct_diagnosis  tried_and_failed  \\\n",
       "0        1.0  417380    A         75.0                  1                 1   \n",
       "1        2.0  417740    A         76.0                  1                 0   \n",
       "2        3.0  417380    A         75.0                  0                 0   \n",
       "3        4.0  999001    A         76.0                  1                 1   \n",
       "4        5.0  417614    A         70.0                  0                 1   \n",
       "\n",
       "   contraindication  pa_approved  \n",
       "0                 0            1  \n",
       "1                 0            1  \n",
       "2                 1            1  \n",
       "3                 0            1  \n",
       "4                 0            1  "
      ]
     },
     "execution_count": 4,
     "metadata": {},
     "output_type": "execute_result"
    }
   ],
   "source": [
    "claim.head()"
   ]
  },
  {
   "cell_type": "code",
   "execution_count": 5,
   "id": "79cbedce",
   "metadata": {
    "scrolled": true
   },
   "outputs": [
    {
     "data": {
      "text/plain": [
       "Index(['dim_pa_id', 'bin', 'drug', 'reject_code', 'correct_diagnosis',\n",
       "       'tried_and_failed', 'contraindication', 'pa_approved'],\n",
       "      dtype='object')"
      ]
     },
     "execution_count": 5,
     "metadata": {},
     "output_type": "execute_result"
    }
   ],
   "source": [
    "claim.columns"
   ]
  },
  {
   "cell_type": "code",
   "execution_count": 6,
   "id": "ce719602",
   "metadata": {},
   "outputs": [],
   "source": [
    "# y:target variable, X:features \n",
    "y=claim.iloc[:,7]\n",
    "X=claim.drop(['dim_pa_id','pa_approved'], axis = 1)"
   ]
  },
  {
   "cell_type": "markdown",
   "id": "191c175b",
   "metadata": {},
   "source": [
    "Split data into three parts 'pre(process)', 'train' and 'test'.<br>\n",
    "- `X_pre`, `y_pre` will be used for the exploratory data analysis, feature selection and hyperparameter tuning.\n",
    "- `X_train`, `y_train` will be used for model selection.\n",
    "- `X_test`, `y_test` will be used for model assessment."
   ]
  },
  {
   "cell_type": "code",
   "execution_count": 7,
   "id": "f2002051",
   "metadata": {},
   "outputs": [],
   "source": [
    "# data split => preprocess : train : test = 3:1:1\n",
    "\n",
    "X_train, X_test, y_train, y_test = train_test_split(X.copy(), y.copy(),\n",
    "                                                    shuffle = True,\n",
    "                                                    random_state = 623,\n",
    "                                                    test_size = .2,\n",
    "                                                    stratify = y.copy())\n",
    "\n",
    "X_pre, X_train, y_pre, y_train = train_test_split(X_train.copy(), y_train.copy(),\n",
    "                                                  shuffle = True,\n",
    "                                                  random_state = 623,\n",
    "                                                  test_size = .25,\n",
    "                                                  stratify = y_train.copy())"
   ]
  },
  {
   "cell_type": "markdown",
   "id": "12f673dc",
   "metadata": {},
   "source": [
    "From now on, we are going to use preprocessing set for exploratory data analysis."
   ]
  },
  {
   "cell_type": "markdown",
   "id": "2f0c6d92",
   "metadata": {},
   "source": [
    "## 1. Relative Frequency Value Distributions"
   ]
  },
  {
   "cell_type": "code",
   "execution_count": 8,
   "id": "8a9047d4",
   "metadata": {
    "scrolled": false
   },
   "outputs": [
    {
     "data": {
      "text/plain": [
       "Index(['bin', 'drug', 'reject_code', 'correct_diagnosis', 'tried_and_failed',\n",
       "       'contraindication'],\n",
       "      dtype='object')"
      ]
     },
     "execution_count": 8,
     "metadata": {},
     "output_type": "execute_result"
    }
   ],
   "source": [
    "X_pre.columns"
   ]
  },
  {
   "cell_type": "markdown",
   "id": "35e4e8a4",
   "metadata": {},
   "source": [
    "Here we plot bar charts for the relative frequency distributions."
   ]
  },
  {
   "cell_type": "code",
   "execution_count": 9,
   "id": "cdf4c073",
   "metadata": {
    "scrolled": true
   },
   "outputs": [
    {
     "name": "stdout",
     "output_type": "stream",
     "text": [
      "Possible values of 'bin' are [417740 417380 417614 999001]\n"
     ]
    },
    {
     "data": {
      "image/png": "[encoded data removed]",
      "text/plain": [
       "<Figure size 432x288 with 1 Axes>"
      ]
     },
     "metadata": {},
     "output_type": "display_data"
    },
    {
     "name": "stdout",
     "output_type": "stream",
     "text": [
      "\n",
      "\n",
      "Possible values of 'drug' are ['B' 'A' 'C']\n"
     ]
    },
    {
     "data": {
      "image/png": "[encoded data removed]",
      "text/plain": [
       "<Figure size 432x288 with 1 Axes>"
      ]
     },
     "metadata": {},
     "output_type": "display_data"
    },
    {
     "name": "stdout",
     "output_type": "stream",
     "text": [
      "\n",
      "\n",
      "Possible values of reject_code are [70. 75. 76.]\n",
      "\n",
      "- 70 : drug is not covered by the plan and is not on formulary, and typically implies that another course of therapy should be pursued\n",
      "- 75 : drug is on the formulary but does not have preferred status and requires a prior authorization (PA)\n",
      "- 76 : the drug is covered, but that the plan limitations have been exceeded, which means that the limitations on the number of fills for that medication has been met\n"
     ]
    },
    {
     "data": {
      "image/png": "[encoded data removed]",
      "text/plain": [
       "<Figure size 432x288 with 1 Axes>"
      ]
     },
     "metadata": {},
     "output_type": "display_data"
    },
    {
     "name": "stdout",
     "output_type": "stream",
     "text": [
      "\n",
      "\n",
      "Possible values of correct_diagnosis are [0 1]\n",
      "\n",
      "1 : the diagnosis is correct\n",
      "0 : the diagnosis is incorrect\n"
     ]
    },
    {
     "data": {
      "image/png": "[encoded data removed]",
      "text/plain": [
       "<Figure size 432x288 with 1 Axes>"
      ]
     },
     "metadata": {},
     "output_type": "display_data"
    },
    {
     "name": "stdout",
     "output_type": "stream",
     "text": [
      "\n",
      "\n",
      "Possible values of tried_and_failed are [0 1]\n",
      "\n",
      "1: generic alternatives have been failed\n",
      "0 : generic alternative did not fail\n"
     ]
    },
    {
     "data": {
      "image/png": "[encoded data removed]",
      "text/plain": [
       "<Figure size 432x288 with 1 Axes>"
      ]
     },
     "metadata": {},
     "output_type": "display_data"
    },
    {
     "name": "stdout",
     "output_type": "stream",
     "text": [
      "\n",
      "\n",
      "Possible values of contraindication are [0 1]\n",
      "\n",
      "1: the patient has an associated contraindication\n",
      "0 : the patient does not have an associated contraindication\n"
     ]
    },
    {
     "data": {
      "image/png": "[encoded data removed]",
      "text/plain": [
       "<Figure size 432x288 with 1 Axes>"
      ]
     },
     "metadata": {},
     "output_type": "display_data"
    },
    {
     "name": "stdout",
     "output_type": "stream",
     "text": [
      "\n",
      "\n",
      "Possible values of our target variable pa_approved are [1 0]\n",
      "1: prior authorization has been approved\n",
      "0: prior authorization has been disapproved\n"
     ]
    },
    {
     "data": {
      "image/png": "[encoded data removed]",
      "text/plain": [
       "<Figure size 432x288 with 1 Axes>"
      ]
     },
     "metadata": {},
     "output_type": "display_data"
    }
   ],
   "source": [
    "# the relative frequency distribution of the feature 'bin'\n",
    "print(\"Possible values of \\'bin\\' are\", X_pre.bin.unique())\n",
    "\n",
    "bin_val = pd.DataFrame({417380 : round(X_pre.bin.value_counts()[417380]/X_pre.shape[0],3),\n",
    "                        417614 : round(X_pre.bin.value_counts()[417614]/X_pre.shape[0],3),\n",
    "                        417740 : round(X_pre.bin.value_counts()[417740]/X_pre.shape[0],3),\n",
    "                        999001 : round(X_pre.bin.value_counts()[999001]/X_pre.shape[0],3)}, \n",
    "                       index = ['ratio'])\n",
    "sns.barplot(data=bin_val).set(title='bin')\n",
    "plt.show()\n",
    "\n",
    "\n",
    "\n",
    "print()\n",
    "print()\n",
    "\n",
    "\n",
    "# the relative frequency distribution of the feature 'drug'\n",
    "print(\"Possible values of \\'drug\\' are\", X_pre.drug.unique())\n",
    "\n",
    "drug_val = pd.DataFrame({'A' : round(X_pre.drug.value_counts()['A']/X_pre.shape[0],3),\n",
    "                         'B' : round(X_pre.drug.value_counts()['B']/X_pre.shape[0],3),\n",
    "                         'C' : round(X_pre.drug.value_counts()['C']/X_pre.shape[0],3)}, \n",
    "                        index = ['ratio'])\n",
    "sns.barplot(data=drug_val).set(title='drug')\n",
    "plt.show()\n",
    "\n",
    "\n",
    "print()\n",
    "print()\n",
    "\n",
    "\n",
    "# the relative frequency distribution of the feature 'reject_code'\n",
    "print(\"Possible values of reject_code are\", X_pre.reject_code.unique())\n",
    "print()\n",
    "print('- 70 : drug is not covered by the plan and is not on formulary, and typically implies that another course of therapy should be pursued') \n",
    "print('- 75 : drug is on the formulary but does not have preferred status and requires a prior authorization (PA)') \n",
    "print('- 76 : the drug is covered, but that the plan limitations have been exceeded, which means that the limitations on the number of fills for that medication has been met')\n",
    "reject_code_val = pd.DataFrame({70 : round(X_pre.reject_code.value_counts()[70]/X_pre.shape[0],3),\n",
    "                                75 : round(X_pre.reject_code.value_counts()[75]/X_pre.shape[0],3),\n",
    "                                76 : round(X_pre.reject_code.value_counts()[76]/X_pre.shape[0],3)}, \n",
    "                        index = ['ratio'])\n",
    "sns.barplot(data=reject_code_val).set(title='reject_code')\n",
    "plt.show()\n",
    "\n",
    "\n",
    "print()\n",
    "print()\n",
    "\n",
    "\n",
    "# the relative frequency distribution of the feature 'correct_diagnosis'\n",
    "print(\"Possible values of correct_diagnosis are\", X_pre.correct_diagnosis.unique())\n",
    "print()\n",
    "print('1 : the diagnosis is correct')\n",
    "print('0 : the diagnosis is incorrect')\n",
    "correct_diagnosis_val = pd.DataFrame({1 : round(X_pre.correct_diagnosis.value_counts()[1]/X_pre.shape[0],3),\n",
    "                                      0 : round(X_pre.correct_diagnosis.value_counts()[0]/X_pre.shape[0],3)}, \n",
    "                        index = ['ratio'])\n",
    "sns.barplot(data=correct_diagnosis_val).set(title='correct_diagnosis')\n",
    "plt.show()\n",
    "\n",
    "\n",
    "\n",
    "print()\n",
    "print()\n",
    "\n",
    "\n",
    "# the relative frequency distribution of the feature 'tried_and_failed'\n",
    "print(\"Possible values of tried_and_failed are\", X_pre.tried_and_failed.unique())\n",
    "print()\n",
    "print('1: generic alternatives have been failed')\n",
    "print('0 : generic alternative did not fail')\n",
    "tried_and_failed_val = pd.DataFrame({1 : round(X_pre.tried_and_failed.value_counts()[1]/X_pre.shape[0],3),\n",
    "                                     0 : round(X_pre.tried_and_failed.value_counts()[0]/X_pre.shape[0],3)}, \n",
    "                                    index = ['ratio'])\n",
    "sns.barplot(data=tried_and_failed_val).set(title='tried_and_failed')\n",
    "plt.show()\n",
    "\n",
    "\n",
    "print()\n",
    "print()\n",
    "\n",
    "\n",
    "# the relative frequency distribution of the feature 'contraindication'\n",
    "print(\"Possible values of contraindication are\", X_pre.contraindication.unique())\n",
    "print()\n",
    "print('1: the patient has an associated contraindication')\n",
    "print('0 : the patient does not have an associated contraindication')\n",
    "contraindication_val = pd.DataFrame({1 : round(X_pre.contraindication.value_counts()[1]/X_pre.shape[0],3),\n",
    "                                     0 : round(X_pre.contraindication.value_counts()[0]/X_pre.shape[0],3)}, \n",
    "                                    index = ['ratio'])\n",
    "sns.barplot(data=contraindication_val).set(title='contraindication')\n",
    "plt.show()\n",
    "\n",
    "\n",
    "print()\n",
    "print()\n",
    "\n",
    "\n",
    "# the relative frequency distribution of the target variable 'pa_approved'\n",
    "print(\"Possible values of our target variable pa_approved are\", y_pre.unique())\n",
    "print('1: prior authorization has been approved')\n",
    "print('0: prior authorization has been disapproved')\n",
    "pa_approved_val = pd.DataFrame({1 : round(y_pre.value_counts()[1]/X_pre.shape[0],3),\n",
    "                                0 : round(y_pre.value_counts()[0]/X_pre.shape[0],3)}, \n",
    "                               index = ['ratio'])\n",
    "sns.barplot(data=pa_approved_val).set(title='pa_approved')\n",
    "plt.show()"
   ]
  },
  {
   "cell_type": "markdown",
   "id": "0cd4a21e",
   "metadata": {},
   "source": [
    "## 2. Redundant Variables"
   ]
  },
  {
   "cell_type": "markdown",
   "id": "4e4f07c2",
   "metadata": {},
   "source": [
    "- First, we calculate the `Cramer's V correlations` between features to see if there is any correlation between them.\n",
    "- Next, we plot the result in a heatmap.\n",
    "- Note that `Cramer's V correlation` measures the correlation between nominal categorical variables."
   ]
  },
  {
   "cell_type": "code",
   "execution_count": 10,
   "id": "c3ff45f4",
   "metadata": {
    "scrolled": true
   },
   "outputs": [
    {
     "data": {
      "text/plain": [
       "Index(['bin', 'drug', 'reject_code', 'correct_diagnosis', 'tried_and_failed',\n",
       "       'contraindication'],\n",
       "      dtype='object')"
      ]
     },
     "execution_count": 10,
     "metadata": {},
     "output_type": "execute_result"
    }
   ],
   "source": [
    "X_pre.columns"
   ]
  },
  {
   "cell_type": "code",
   "execution_count": 11,
   "id": "d44285fd",
   "metadata": {},
   "outputs": [
    {
     "data": {
      "text/plain": [
       "Index(['bin', 'drug', 'reject_code', 'correct_diagnosis', 'tried_and_failed',\n",
       "       'contraindication'],\n",
       "      dtype='object')"
      ]
     },
     "execution_count": 11,
     "metadata": {},
     "output_type": "execute_result"
    }
   ],
   "source": [
    "X_pre.columns[0:6]"
   ]
  },
  {
   "cell_type": "code",
   "execution_count": 12,
   "id": "77d82962",
   "metadata": {
    "scrolled": true
   },
   "outputs": [
    {
     "data": {
      "text/plain": [
       "Text(0.5, 1.0, \"cramer's V correlation\")"
      ]
     },
     "execution_count": 12,
     "metadata": {},
     "output_type": "execute_result"
    },
    {
     "data": {
      "image/png": "[encoded data removed]",
      "text/plain": [
       "<Figure size 432x288 with 2 Axes>"
      ]
     },
     "metadata": {},
     "output_type": "display_data"
    }
   ],
   "source": [
    "# Cramer's V correlations\n",
    "cramer =  np.zeros((len(X_pre.columns[0:6]),len(X_pre.columns[0:6])))\n",
    "# pairwise Cramer's V correlations\n",
    "i=0\n",
    "for x in X_pre.columns[0:6] :\n",
    "    j=0\n",
    "    for w in X_pre.columns[0:6] :\n",
    "        data = pd.crosstab(index=X_pre[x], columns=X_pre[w])\n",
    "        X2 = stats.chi2_contingency(data,correction=False)[0]\n",
    "        n = np.sum(np.sum(data))\n",
    "        minimum_dimension = min(data.shape)-1\n",
    "        result = round(np.sqrt((X2/n) / minimum_dimension),3)\n",
    "        cramer[i,j] = result\n",
    "        j+=1\n",
    "    i+=1\n",
    "# heat map for Cramer's V correlations\n",
    "cramer = pd.DataFrame(data = cramer, \n",
    "                      columns = X_pre.columns[0:6],\n",
    "                     index = X_pre.columns[0:6])\n",
    "sns.heatmap(cramer, cmap=\"Blues\")\n",
    "plt.title('cramer\\'s V correlation')"
   ]
  },
  {
   "cell_type": "markdown",
   "id": "5cafca30",
   "metadata": {},
   "source": [
    "- The heatmap above implies that there is some correlation between features `bin`,`drug` and `reject_code`. \n",
    "- Recall that in the note 0. EDA-pharmacy_claim_approval(hyperlink), we conjectured that each insurance company has a fixed policy for handling pharmacy claims for certain drugs because `bin` and `drug` almost determined the variable `pharmacy_claim_approved`.\n",
    "- It is natural to extend this hypothesis from `pharmacy_claim_approval` to `reject_code` i.e. `bin` and `drug` almost determines `reject_code`.\n",
    "- Below, we will plot bar charts for the relative frequency distributions of the feature 'reject_code' for fixed 'bin' and 'drug' values."
   ]
  },
  {
   "cell_type": "code",
   "execution_count": 13,
   "id": "a5754347",
   "metadata": {},
   "outputs": [
    {
     "data": {
      "text/plain": [
       "Index(['bin', 'drug', 'reject_code', 'correct_diagnosis', 'tried_and_failed',\n",
       "       'contraindication'],\n",
       "      dtype='object')"
      ]
     },
     "execution_count": 13,
     "metadata": {},
     "output_type": "execute_result"
    }
   ],
   "source": [
    "X_pre.columns"
   ]
  },
  {
   "cell_type": "code",
   "execution_count": 14,
   "id": "b49bc28f",
   "metadata": {
    "scrolled": true
   },
   "outputs": [
    {
     "name": "stdout",
     "output_type": "stream",
     "text": [
      "417740 B\n",
      "0    20001\n",
      "1    12838\n",
      "Name: pa_approved, dtype: int64\n"
     ]
    },
    {
     "data": {
      "image/png": "[encoded data removed]",
      "text/plain": [
       "<Figure size 432x288 with 1 Axes>"
      ]
     },
     "metadata": {},
     "output_type": "display_data"
    },
    {
     "name": "stdout",
     "output_type": "stream",
     "text": [
      "417740 A\n",
      "1    5849\n",
      "0     641\n",
      "Name: pa_approved, dtype: int64\n"
     ]
    },
    {
     "data": {
      "image/png": "[encoded data removed]",
      "text/plain": [
       "<Figure size 432x288 with 1 Axes>"
      ]
     },
     "metadata": {},
     "output_type": "display_data"
    },
    {
     "name": "stdout",
     "output_type": "stream",
     "text": [
      "417740 C\n",
      "1    24993\n",
      "0     5023\n",
      "Name: pa_approved, dtype: int64\n"
     ]
    },
    {
     "data": {
      "image/png": "[encoded data removed]",
      "text/plain": [
       "<Figure size 432x288 with 1 Axes>"
      ]
     },
     "metadata": {},
     "output_type": "display_data"
    },
    {
     "name": "stdout",
     "output_type": "stream",
     "text": [
      "417380 B\n",
      "1    2406\n",
      "0     238\n",
      "Name: pa_approved, dtype: int64\n"
     ]
    },
    {
     "data": {
      "image/png": "[encoded data removed]",
      "text/plain": [
       "<Figure size 432x288 with 1 Axes>"
      ]
     },
     "metadata": {},
     "output_type": "display_data"
    },
    {
     "name": "stdout",
     "output_type": "stream",
     "text": [
      "417380 A\n",
      "1    52694\n",
      "0      534\n",
      "Name: pa_approved, dtype: int64\n"
     ]
    },
    {
     "data": {
      "image/png": "[encoded data removed]",
      "text/plain": [
       "<Figure size 432x288 with 1 Axes>"
      ]
     },
     "metadata": {},
     "output_type": "display_data"
    },
    {
     "name": "stdout",
     "output_type": "stream",
     "text": [
      "417380 C\n",
      "0    16424\n",
      "1     8195\n",
      "Name: pa_approved, dtype: int64\n"
     ]
    },
    {
     "data": {
      "image/png": "[encoded data removed]",
      "text/plain": [
       "<Figure size 432x288 with 1 Axes>"
      ]
     },
     "metadata": {},
     "output_type": "display_data"
    },
    {
     "name": "stdout",
     "output_type": "stream",
     "text": [
      "417614 B\n",
      "1    45923\n",
      "0     1282\n",
      "Name: pa_approved, dtype: int64\n"
     ]
    },
    {
     "data": {
      "image/png": "[encoded data removed]",
      "text/plain": [
       "<Figure size 432x288 with 1 Axes>"
      ]
     },
     "metadata": {},
     "output_type": "display_data"
    },
    {
     "name": "stdout",
     "output_type": "stream",
     "text": [
      "417614 A\n",
      "1    54666\n",
      "0    39306\n",
      "Name: pa_approved, dtype: int64\n"
     ]
    },
    {
     "data": {
      "image/png": "[encoded data removed]",
      "text/plain": [
       "<Figure size 432x288 with 1 Axes>"
      ]
     },
     "metadata": {},
     "output_type": "display_data"
    },
    {
     "name": "stdout",
     "output_type": "stream",
     "text": [
      "417614 C\n",
      "1    2717\n",
      "0    1551\n",
      "Name: pa_approved, dtype: int64\n"
     ]
    },
    {
     "data": {
      "image/png": "[encoded data removed]",
      "text/plain": [
       "<Figure size 432x288 with 1 Axes>"
      ]
     },
     "metadata": {},
     "output_type": "display_data"
    },
    {
     "name": "stdout",
     "output_type": "stream",
     "text": [
      "999001 B\n",
      "1    9132\n",
      "0     668\n",
      "Name: pa_approved, dtype: int64\n"
     ]
    },
    {
     "data": {
      "image/png": "[encoded data removed]",
      "text/plain": [
       "<Figure size 432x288 with 1 Axes>"
      ]
     },
     "metadata": {},
     "output_type": "display_data"
    },
    {
     "name": "stdout",
     "output_type": "stream",
     "text": [
      "999001 A\n",
      "1    18641\n",
      "0      715\n",
      "Name: pa_approved, dtype: int64\n"
     ]
    },
    {
     "data": {
      "image/png": "[encoded data removed]",
      "text/plain": [
       "<Figure size 432x288 with 1 Axes>"
      ]
     },
     "metadata": {},
     "output_type": "display_data"
    },
    {
     "name": "stdout",
     "output_type": "stream",
     "text": [
      "999001 C\n",
      "1    6937\n",
      "0    2196\n",
      "Name: pa_approved, dtype: int64\n"
     ]
    },
    {
     "data": {
      "image/png": "[encoded data removed]",
      "text/plain": [
       "<Figure size 432x288 with 1 Axes>"
      ]
     },
     "metadata": {},
     "output_type": "display_data"
    }
   ],
   "source": [
    "# the relative frequency distributions of the feature 'reject_code' for fixed 'bin' and 'drug' values\n",
    "for i in X_pre.bin.unique() :\n",
    "    for j in X_pre.drug.unique() :\n",
    "        print(i,j)\n",
    "        print(y_pre.loc[(X_pre.bin == i) & (X_pre.drug == j)].value_counts())    \n",
    "        pa_approved_val = pd.DataFrame({70 : round(y_pre.loc[(X_pre.bin == i) & (X_pre.drug == j) & (X_pre.reject_code ==70)].shape[0]/y_pre[(X_pre.bin == i) & (X_pre.drug == j)].shape[0],3),\n",
    "                                        75 : round(y_pre.loc[(X_pre.bin == i) & (X_pre.drug == j) & (X_pre.reject_code ==75)].shape[0]/y_pre[(X_pre.bin == i) & (X_pre.drug == j)].shape[0],3),\n",
    "                                        76 : round(y_pre.loc[(X_pre.bin == i) & (X_pre.drug == j) & (X_pre.reject_code ==76)].shape[0]/y_pre[(X_pre.bin == i) & (X_pre.drug == j)].shape[0],3)}, \n",
    "                                       index = ['ratio'])\n",
    "        sns.barplot(data=pa_approved_val).set(title=str(i)+\"-\"+str(j))\n",
    "        plt.show()"
   ]
  },
  {
   "cell_type": "markdown",
   "id": "12ea9cbb",
   "metadata": {},
   "source": [
    "- According to the bar charts above, once we fix `bin` and `drug` values, the relative frequency distribution is concentrated at a single value.\n",
    "- This implies that 'reject_code' is (almost) determined by `bin` and `drug` i.e. `reject_code` is a redundant variable.\n",
    "- We drop `reject_code` from our models."
   ]
  },
  {
   "cell_type": "code",
   "execution_count": 15,
   "id": "cb7495dd",
   "metadata": {},
   "outputs": [],
   "source": [
    "# drop the column 'reject_code'\n",
    "X_pre = X_pre.drop('reject_code', axis = 1)\n",
    "X_train = X_train.drop('reject_code', axis = 1)\n",
    "X_test = X_test.drop('reject_code', axis = 1)"
   ]
  },
  {
   "cell_type": "code",
   "execution_count": 16,
   "id": "8fa82d67",
   "metadata": {},
   "outputs": [
    {
     "data": {
      "text/plain": [
       "Index(['bin', 'drug', 'correct_diagnosis', 'tried_and_failed',\n",
       "       'contraindication'],\n",
       "      dtype='object')"
      ]
     },
     "execution_count": 16,
     "metadata": {},
     "output_type": "execute_result"
    }
   ],
   "source": [
    "X_pre.columns"
   ]
  },
  {
   "cell_type": "markdown",
   "id": "aa913eee",
   "metadata": {},
   "source": [
    "## 3. Interacting Variables"
   ]
  },
  {
   "cell_type": "code",
   "execution_count": 17,
   "id": "2d4c0931",
   "metadata": {
    "scrolled": false
   },
   "outputs": [
    {
     "data": {
      "text/plain": [
       "Index(['bin', 'drug', 'correct_diagnosis', 'tried_and_failed',\n",
       "       'contraindication'],\n",
       "      dtype='object')"
      ]
     },
     "execution_count": 17,
     "metadata": {},
     "output_type": "execute_result"
    }
   ],
   "source": [
    "X_pre.columns"
   ]
  },
  {
   "cell_type": "markdown",
   "id": "65fe2e88",
   "metadata": {},
   "source": [
    "For each feature, we plot the prior authorization approval rates of the patients with specific feature values."
   ]
  },
  {
   "cell_type": "code",
   "execution_count": 18,
   "id": "d4d97140",
   "metadata": {
    "scrolled": true
   },
   "outputs": [
    {
     "name": "stdout",
     "output_type": "stream",
     "text": [
      "'bin'\n"
     ]
    },
    {
     "data": {
      "image/png": "[encoded data removed]",
      "text/plain": [
       "<Figure size 432x288 with 1 Axes>"
      ]
     },
     "metadata": {},
     "output_type": "display_data"
    },
    {
     "name": "stdout",
     "output_type": "stream",
     "text": [
      "\n",
      "\n",
      "'drug'\n"
     ]
    },
    {
     "data": {
      "image/png": "[encoded data removed]",
      "text/plain": [
       "<Figure size 432x288 with 1 Axes>"
      ]
     },
     "metadata": {},
     "output_type": "display_data"
    },
    {
     "name": "stdout",
     "output_type": "stream",
     "text": [
      "\n",
      "\n",
      "'correct_diagnosis'\n"
     ]
    },
    {
     "data": {
      "image/png": "[encoded data removed]",
      "text/plain": [
       "<Figure size 432x288 with 1 Axes>"
      ]
     },
     "metadata": {},
     "output_type": "display_data"
    },
    {
     "name": "stdout",
     "output_type": "stream",
     "text": [
      "\n",
      "\n",
      "'tried_and_failed'\n"
     ]
    },
    {
     "data": {
      "image/png": "[encoded data removed]",
      "text/plain": [
       "<Figure size 432x288 with 1 Axes>"
      ]
     },
     "metadata": {},
     "output_type": "display_data"
    },
    {
     "name": "stdout",
     "output_type": "stream",
     "text": [
      "\n",
      "\n",
      "'contraindication'\n"
     ]
    },
    {
     "data": {
      "image/png": "[encoded data removed]",
      "text/plain": [
       "<Figure size 432x288 with 1 Axes>"
      ]
     },
     "metadata": {},
     "output_type": "display_data"
    }
   ],
   "source": [
    "# plot the approval rates for the patients with specific 'bin' values.\n",
    "print(\"\\'bin\\'\")\n",
    "\n",
    "bin_val = pd.DataFrame({417380 : X_pre[(X_pre.bin == 417380) & (y_pre == 1)].shape[0]/X_pre[X_pre.bin == 417380].shape[0],\n",
    "                        417614 : X_pre[(X_pre.bin == 417614) & (y_pre == 1)].shape[0]/X_pre[X_pre.bin == 417614].shape[0],\n",
    "                        417740 : X_pre[(X_pre.bin == 417740) & (y_pre == 1)].shape[0]/X_pre[X_pre.bin == 417740].shape[0],\n",
    "                        999001 : X_pre[(X_pre.bin == 999001) & (y_pre == 1)].shape[0]/X_pre[X_pre.bin == 999001].shape[0]}, \n",
    "                       index = ['approval_rate'])\n",
    "sns.barplot(data=bin_val).set(title='bin')\n",
    "plt.show()\n",
    "\n",
    "\n",
    "\n",
    "print()\n",
    "print()\n",
    "\n",
    "\n",
    "# plot the approval rates for the patients with specific 'drug' values.\n",
    "print(\"\\'drug\\'\")\n",
    "\n",
    "drug_val = pd.DataFrame({'A' : X_pre[(X_pre.drug == 'A') & (y_pre == 1)].shape[0]/X_pre[X_pre.drug == 'A'].shape[0],\n",
    "                         'B' : X_pre[(X_pre.drug == 'B') & (y_pre == 1)].shape[0]/X_pre[X_pre.drug == 'B'].shape[0],\n",
    "                         'C' : X_pre[(X_pre.drug == 'C') & (y_pre == 1)].shape[0]/X_pre[X_pre.drug == 'C'].shape[0]}, \n",
    "                       index = ['approval_rate'])\n",
    "sns.barplot(data=drug_val).set(title='drug')\n",
    "plt.show()\n",
    "\n",
    "\n",
    "\n",
    "print()\n",
    "print()\n",
    "\n",
    "# plot the approval rates for the patients with specific 'correct_diagnosis' values.\n",
    "print(\"\\'correct_diagnosis\\'\")\n",
    "\n",
    "correct_diagnosis_val = pd.DataFrame({1 : X_pre[(X_pre.correct_diagnosis == 1) & (y_pre == 1)].shape[0]/X_pre[X_pre.correct_diagnosis == 1].shape[0],\n",
    "                                      0 : X_pre[(X_pre.correct_diagnosis == 0) & (y_pre == 1)].shape[0]/X_pre[X_pre.correct_diagnosis == 0].shape[0]}, \n",
    "                                     index = ['approval_rate'])\n",
    "sns.barplot(data=correct_diagnosis_val).set(title='correct_diagnosis')\n",
    "plt.show()\n",
    "\n",
    "\n",
    "\n",
    "print()\n",
    "print()\n",
    "\n",
    "\n",
    "# plot the approval rates for the patients with specific 'tried_and_failed' values.\n",
    "print(\"\\'tried_and_failed\\'\")\n",
    "\n",
    "tried_and_failed_val = pd.DataFrame({1 : X_pre[(X_pre.tried_and_failed == 1) & (y_pre == 1)].shape[0]/X_pre[X_pre.tried_and_failed == 1].shape[0],\n",
    "                                     0 : X_pre[(X_pre.tried_and_failed == 0) & (y_pre == 1)].shape[0]/X_pre[X_pre.tried_and_failed == 0].shape[0]}, \n",
    "                                    index = ['approval_rate'])\n",
    "sns.barplot(data=tried_and_failed_val).set(title='tried_and_failed')\n",
    "plt.show()\n",
    "\n",
    "\n",
    "\n",
    "print()\n",
    "print()\n",
    "\n",
    "\n",
    "# plot the approval rates for the patients with specific 'contraindication' values.\n",
    "print(\"\\'contraindication\\'\")\n",
    "\n",
    "contraindication_val = pd.DataFrame({1 : X_pre[(X_pre.contraindication == 1) & (y_pre == 1)].shape[0]/X_pre[X_pre.contraindication == 1].shape[0],\n",
    "                                     0 : X_pre[(X_pre.contraindication == 0) & (y_pre == 1)].shape[0]/X_pre[X_pre.contraindication == 0].shape[0]}, \n",
    "                                    index = ['approval_rate'])\n",
    "sns.barplot(data=contraindication_val).set(title='contraindication')\n",
    "plt.show()"
   ]
  },
  {
   "cell_type": "markdown",
   "id": "1e2630ba",
   "metadata": {},
   "source": [
    "Summary of the overall trends\n",
    "- the approval rate of the patients with `bin`== 999001>`bin` == 417380>`bin` == 417614>`bin` == 417740.\n",
    "- the approval rate of the patients with `drug`=='A'≈ `drug`=='B'>`drug`=='C'.\n",
    "- the approval rate of the patients with `correct_diagnosis`== 1>`correct_diagnosis`== 0.\n",
    "- the approval rate of the patients with `tried_and_failed`== 1>`tried_and_failed`== 0.\n",
    "- the approval rate of the patients with `contraindication`== 0>`contraindication`== 1."
   ]
  },
  {
   "cell_type": "code",
   "execution_count": 19,
   "id": "43947cb8",
   "metadata": {},
   "outputs": [
    {
     "data": {
      "text/plain": [
       "Index(['bin', 'drug', 'correct_diagnosis', 'tried_and_failed',\n",
       "       'contraindication'],\n",
       "      dtype='object')"
      ]
     },
     "execution_count": 19,
     "metadata": {},
     "output_type": "execute_result"
    }
   ],
   "source": [
    "X_pre.columns"
   ]
  },
  {
   "cell_type": "markdown",
   "id": "82359e2b",
   "metadata": {},
   "source": [
    "We will see how the interaction between features affect the prior authorization approval rate."
   ]
  },
  {
   "cell_type": "code",
   "execution_count": 20,
   "id": "49ef89b2",
   "metadata": {
    "scrolled": true
   },
   "outputs": [
    {
     "data": {
      "image/png": "[encoded data removed]",
      "text/plain": [
       "<Figure size 432x288 with 2 Axes>"
      ]
     },
     "metadata": {},
     "output_type": "display_data"
    },
    {
     "data": {
      "image/png": "[encoded data removed]",
      "text/plain": [
       "<Figure size 432x288 with 2 Axes>"
      ]
     },
     "metadata": {},
     "output_type": "display_data"
    },
    {
     "data": {
      "image/png": "[encoded data removed]",
      "text/plain": [
       "<Figure size 432x288 with 2 Axes>"
      ]
     },
     "metadata": {},
     "output_type": "display_data"
    },
    {
     "data": {
      "image/png": "[encoded data removed]",
      "text/plain": [
       "<Figure size 432x288 with 2 Axes>"
      ]
     },
     "metadata": {},
     "output_type": "display_data"
    },
    {
     "data": {
      "image/png": "[encoded data removed]",
      "text/plain": [
       "<Figure size 432x288 with 2 Axes>"
      ]
     },
     "metadata": {},
     "output_type": "display_data"
    },
    {
     "data": {
      "image/png": "[encoded data removed]",
      "text/plain": [
       "<Figure size 432x288 with 2 Axes>"
      ]
     },
     "metadata": {},
     "output_type": "display_data"
    },
    {
     "data": {
      "image/png": "[encoded data removed]",
      "text/plain": [
       "<Figure size 432x288 with 2 Axes>"
      ]
     },
     "metadata": {},
     "output_type": "display_data"
    },
    {
     "data": {
      "image/png": "[encoded data removed]",
      "text/plain": [
       "<Figure size 432x288 with 2 Axes>"
      ]
     },
     "metadata": {},
     "output_type": "display_data"
    },
    {
     "data": {
      "image/png": "[encoded data removed]",
      "text/plain": [
       "<Figure size 432x288 with 2 Axes>"
      ]
     },
     "metadata": {},
     "output_type": "display_data"
    },
    {
     "data": {
      "image/png": "[encoded data removed]",
      "text/plain": [
       "<Figure size 432x288 with 2 Axes>"
      ]
     },
     "metadata": {},
     "output_type": "display_data"
    }
   ],
   "source": [
    "# For each pair of features, we plot the heatmaps of the approval rates for each pair of values\n",
    "i=0\n",
    "for x in X_pre.columns :\n",
    "    j=0\n",
    "    for w in X_pre.columns[i+1:] :\n",
    "        data = pd.crosstab(index=X_pre.loc[y_pre == 1, x], columns=X_pre.loc[y_pre == 1, w])/pd.crosstab(index=X_pre.loc[:, x], columns=X_pre.loc[:, w])\n",
    "        sns.heatmap(data, cmap=\"Blues\")\n",
    "        plt.title(str(x)+' : '+str(w))\n",
    "        plt.show()\n",
    "        j+=1\n",
    "    i+=1"
   ]
  },
  {
   "cell_type": "markdown",
   "id": "2cc82ef4",
   "metadata": {},
   "source": [
    "- the color in each square represents the number of patients with the vertical horizontal label values.\n",
    "- For example, for the first heatmap the color of the square at the top left corner represents the number of patients with 'bin'== 417380, 'drug' == 'A'.\n",
    "- Most of the heatmaps are <i>\"regular\"</i> except the heatmap between pairs (`bin`, `drug`), (`tried_and_faild`,`drug`),(`contraindication`,`drug`).\n",
    "- The heatmaps are <i>\"irregular\"</i> in a sense that the heatmaps do not follow the overall trends that we observed above. For example,\n",
    "- If we restrict our attention to patients with `drug`=='A', the approval rate of the patients with `bin`== 417614>`bin`== 417380>`bin`== 999001>`bin`== 417740 which is quite different from the overall trend  the approval rate of the patients with `bin`== 999001>`bin` == 417380>`bin` == 417614>`bin` == 417740.\n",
    "- If we restrict our attention to the patients with `tried_and_failed` == 0, the approval rate of the patients with `drug`=='B'>`drug`=='A'>`drug`=='C'which is quite different from the overall trend the approval rate of the patients with `drug`=='A'≈ `drug`=='B'>`drug`=='C'.\n",
    "- If we restrict our attention to the patients with `contraindication` == 1, the approval rate of the patients with `drug`=='B'>`drug`=='A'>`drug`=='C'which is quite different from the overall trend the approval rate of the patients with `drug`=='A'≈ `drug`=='B'>`drug`=='C'.\n",
    "- This \"irregular\" behavior of the heatmaps resulted from interactions between features.\n",
    "- Therefore, we add interaction terms of the pairs (`bin`, `drug`), (`tried_and_faild`,`drug`),(`contraindication`,`drug`).\n",
    "- We will use these interaction terms to model logistic regression model later."
   ]
  },
  {
   "cell_type": "markdown",
   "id": "a77b19ce",
   "metadata": {},
   "source": [
    "One hot encoding of nominal categorical variables `bin` and `drug`."
   ]
  },
  {
   "cell_type": "code",
   "execution_count": 21,
   "id": "c692496f",
   "metadata": {},
   "outputs": [],
   "source": [
    "# one hot encoding of categorical variable 'bin'\n",
    "for i in pd.get_dummies(X_pre.bin).columns :\n",
    "    X_pre.loc[:,i] = pd.get_dummies(X_pre.bin).loc[:, i].copy()\n",
    "for i in pd.get_dummies(X_train.bin).columns :\n",
    "    X_train.loc[:,i] = pd.get_dummies(X_train.bin).loc[:, i].copy()\n",
    "for i in pd.get_dummies(X_test.bin).columns :\n",
    "    X_test.loc[:,i] = pd.get_dummies(X_test.bin).loc[:, i].copy()\n",
    "\n",
    "# one hot encoding of categorical variable 'drug'\n",
    "for i in pd.get_dummies(X_pre.drug).columns :\n",
    "    X_pre.loc[:,i] = pd.get_dummies(X_pre.drug).loc[:, i].copy()\n",
    "for i in pd.get_dummies(X_train.drug).columns :\n",
    "    X_train.loc[:,i] = pd.get_dummies(X_train.drug).loc[:, i].copy()\n",
    "for i in pd.get_dummies(X_test.drug).columns :\n",
    "    X_test.loc[:,i] = pd.get_dummies(X_test.drug).loc[:, i].copy()"
   ]
  },
  {
   "cell_type": "code",
   "execution_count": 22,
   "id": "c68cc245",
   "metadata": {},
   "outputs": [],
   "source": [
    "# the dataframes that only involves one hot encoded features\n",
    "X_pre = X_pre.drop('bin', axis=1)\n",
    "X_pre = X_pre.drop('drug', axis=1)\n",
    "X_train = X_train.drop('bin', axis=1)\n",
    "X_train = X_train.drop('drug', axis=1)\n",
    "X_test = X_test.drop('bin', axis=1)\n",
    "X_test = X_test.drop('drug', axis=1)"
   ]
  },
  {
   "cell_type": "code",
   "execution_count": 23,
   "id": "9a12ebff",
   "metadata": {},
   "outputs": [
    {
     "data": {
      "text/plain": [
       "Index(['correct_diagnosis',  'tried_and_failed',  'contraindication',\n",
       "                    417380,              417614,              417740,\n",
       "                    999001,                 'A',                 'B',\n",
       "                       'C'],\n",
       "      dtype='object')"
      ]
     },
     "execution_count": 23,
     "metadata": {},
     "output_type": "execute_result"
    }
   ],
   "source": [
    "X_pre.columns"
   ]
  },
  {
   "cell_type": "code",
   "execution_count": 24,
   "id": "98fdf011",
   "metadata": {},
   "outputs": [],
   "source": [
    "X_inter_pre = X_pre.copy()\n",
    "X_inter_train = X_train.copy()\n",
    "X_inter_test = X_test.copy()"
   ]
  },
  {
   "cell_type": "markdown",
   "id": "6c5d5f0d",
   "metadata": {},
   "source": [
    "Add interaction terms of the pairs (`bin`, `drug`), (`tried_and_faild`,`drug`),(`contraindication`,`drug`)."
   ]
  },
  {
   "cell_type": "code",
   "execution_count": 25,
   "id": "d8af858e",
   "metadata": {},
   "outputs": [],
   "source": [
    "# encoding interaction terms of variable pairs\n",
    "\n",
    "# 'bin' and 'drug'\n",
    "for i in X_pre.columns[3:7] :\n",
    "    for j in X_pre.columns[7:10] : \n",
    "        X_inter_pre.loc[:,str(i)+j] = X_pre.loc[:,i] * X_pre.loc[:,j]\n",
    "for i in X_train.columns[3:7] :\n",
    "    for j in X_train.columns[7:10] : \n",
    "        X_inter_train.loc[:,str(i)+j] = X_train.loc[:,i] * X_train.loc[:,j]\n",
    "for i in X_train.columns[3:7] :\n",
    "    for j in X_test.columns[7:10] : \n",
    "        X_inter_test.loc[:,str(i)+j] = X_test.loc[:,i] * X_test.loc[:,j]\n",
    "        \n",
    "# 'tried_and_failed' and 'drug'\n",
    "for j in X_pre.columns[7:10] : \n",
    "    X_inter_pre.loc[:,'tried_and_failed'+j] = X_pre.loc[:,'tried_and_failed'] * X_pre.loc[:,j]\n",
    "for j in X_train.columns[7:10] : \n",
    "    X_inter_train.loc[:,'tried_and_failed'+j] = X_train.loc[:,'tried_and_failed'] * X_train.loc[:,j]\n",
    "for j in X_test.columns[7:10] : \n",
    "    X_inter_test.loc[:,'tried_and_failed'+j] = X_test.loc[:,'tried_and_failed'] * X_test.loc[:,j]\n",
    "        \n",
    "# 'contraindication' and 'drug'\n",
    "for j in X_pre.columns[7:10] : \n",
    "    X_inter_pre.loc[:,'contraindication'+j] = X_pre.loc[:,'contraindication'] * X_pre.loc[:,j]\n",
    "for j in X_train.columns[7:10] : \n",
    "    X_inter_train.loc[:,'contraindication'+j] = X_train.loc[:,'contraindication'] * X_train.loc[:,j]\n",
    "for j in X_test.columns[7:10] : \n",
    "    X_inter_test.loc[:,'contraindication'+j] = X_test.loc[:,'contraindication'] * X_test.loc[:,j]"
   ]
  },
  {
   "cell_type": "code",
   "execution_count": 26,
   "id": "2c344bb5",
   "metadata": {
    "scrolled": false
   },
   "outputs": [
    {
     "data": {
      "text/html": [
       "<div>\n",
       "<style scoped>\n",
       "    .dataframe tbody tr th:only-of-type {\n",
       "        vertical-align: middle;\n",
       "    }\n",
       "\n",
       "    .dataframe tbody tr th {\n",
       "        vertical-align: top;\n",
       "    }\n",
       "\n",
       "    .dataframe thead th {\n",
       "        text-align: right;\n",
       "    }\n",
       "</style>\n",
       "<table border=\"1\" class=\"dataframe\">\n",
       "  <thead>\n",
       "    <tr style=\"text-align: right;\">\n",
       "      <th></th>\n",
       "      <th>correct_diagnosis</th>\n",
       "      <th>tried_and_failed</th>\n",
       "      <th>contraindication</th>\n",
       "      <th>417380</th>\n",
       "      <th>417614</th>\n",
       "      <th>417740</th>\n",
       "      <th>999001</th>\n",
       "      <th>A</th>\n",
       "      <th>B</th>\n",
       "      <th>C</th>\n",
       "      <th>...</th>\n",
       "      <th>417740C</th>\n",
       "      <th>999001A</th>\n",
       "      <th>999001B</th>\n",
       "      <th>999001C</th>\n",
       "      <th>tried_and_failedA</th>\n",
       "      <th>tried_and_failedB</th>\n",
       "      <th>tried_and_failedC</th>\n",
       "      <th>contraindicationA</th>\n",
       "      <th>contraindicationB</th>\n",
       "      <th>contraindicationC</th>\n",
       "    </tr>\n",
       "  </thead>\n",
       "  <tbody>\n",
       "    <tr>\n",
       "      <th>153421</th>\n",
       "      <td>0</td>\n",
       "      <td>0</td>\n",
       "      <td>0</td>\n",
       "      <td>0</td>\n",
       "      <td>0</td>\n",
       "      <td>1</td>\n",
       "      <td>0</td>\n",
       "      <td>0</td>\n",
       "      <td>1</td>\n",
       "      <td>0</td>\n",
       "      <td>...</td>\n",
       "      <td>0</td>\n",
       "      <td>0</td>\n",
       "      <td>0</td>\n",
       "      <td>0</td>\n",
       "      <td>0</td>\n",
       "      <td>0</td>\n",
       "      <td>0</td>\n",
       "      <td>0</td>\n",
       "      <td>0</td>\n",
       "      <td>0</td>\n",
       "    </tr>\n",
       "    <tr>\n",
       "      <th>485561</th>\n",
       "      <td>1</td>\n",
       "      <td>0</td>\n",
       "      <td>0</td>\n",
       "      <td>1</td>\n",
       "      <td>0</td>\n",
       "      <td>0</td>\n",
       "      <td>0</td>\n",
       "      <td>1</td>\n",
       "      <td>0</td>\n",
       "      <td>0</td>\n",
       "      <td>...</td>\n",
       "      <td>0</td>\n",
       "      <td>0</td>\n",
       "      <td>0</td>\n",
       "      <td>0</td>\n",
       "      <td>0</td>\n",
       "      <td>0</td>\n",
       "      <td>0</td>\n",
       "      <td>0</td>\n",
       "      <td>0</td>\n",
       "      <td>0</td>\n",
       "    </tr>\n",
       "    <tr>\n",
       "      <th>505492</th>\n",
       "      <td>1</td>\n",
       "      <td>1</td>\n",
       "      <td>0</td>\n",
       "      <td>0</td>\n",
       "      <td>0</td>\n",
       "      <td>1</td>\n",
       "      <td>0</td>\n",
       "      <td>0</td>\n",
       "      <td>1</td>\n",
       "      <td>0</td>\n",
       "      <td>...</td>\n",
       "      <td>0</td>\n",
       "      <td>0</td>\n",
       "      <td>0</td>\n",
       "      <td>0</td>\n",
       "      <td>0</td>\n",
       "      <td>1</td>\n",
       "      <td>0</td>\n",
       "      <td>0</td>\n",
       "      <td>0</td>\n",
       "      <td>0</td>\n",
       "    </tr>\n",
       "    <tr>\n",
       "      <th>418732</th>\n",
       "      <td>1</td>\n",
       "      <td>0</td>\n",
       "      <td>0</td>\n",
       "      <td>1</td>\n",
       "      <td>0</td>\n",
       "      <td>0</td>\n",
       "      <td>0</td>\n",
       "      <td>1</td>\n",
       "      <td>0</td>\n",
       "      <td>0</td>\n",
       "      <td>...</td>\n",
       "      <td>0</td>\n",
       "      <td>0</td>\n",
       "      <td>0</td>\n",
       "      <td>0</td>\n",
       "      <td>0</td>\n",
       "      <td>0</td>\n",
       "      <td>0</td>\n",
       "      <td>0</td>\n",
       "      <td>0</td>\n",
       "      <td>0</td>\n",
       "    </tr>\n",
       "    <tr>\n",
       "      <th>416077</th>\n",
       "      <td>1</td>\n",
       "      <td>1</td>\n",
       "      <td>0</td>\n",
       "      <td>0</td>\n",
       "      <td>1</td>\n",
       "      <td>0</td>\n",
       "      <td>0</td>\n",
       "      <td>0</td>\n",
       "      <td>1</td>\n",
       "      <td>0</td>\n",
       "      <td>...</td>\n",
       "      <td>0</td>\n",
       "      <td>0</td>\n",
       "      <td>0</td>\n",
       "      <td>0</td>\n",
       "      <td>0</td>\n",
       "      <td>1</td>\n",
       "      <td>0</td>\n",
       "      <td>0</td>\n",
       "      <td>0</td>\n",
       "      <td>0</td>\n",
       "    </tr>\n",
       "  </tbody>\n",
       "</table>\n",
       "<p>5 rows × 28 columns</p>\n",
       "</div>"
      ],
      "text/plain": [
       "        correct_diagnosis  tried_and_failed  contraindication  417380  417614  \\\n",
       "153421                  0                 0                 0       0       0   \n",
       "485561                  1                 0                 0       1       0   \n",
       "505492                  1                 1                 0       0       0   \n",
       "418732                  1                 0                 0       1       0   \n",
       "416077                  1                 1                 0       0       1   \n",
       "\n",
       "        417740  999001  A  B  C  ...  417740C  999001A  999001B  999001C  \\\n",
       "153421       1       0  0  1  0  ...        0        0        0        0   \n",
       "485561       0       0  1  0  0  ...        0        0        0        0   \n",
       "505492       1       0  0  1  0  ...        0        0        0        0   \n",
       "418732       0       0  1  0  0  ...        0        0        0        0   \n",
       "416077       0       0  0  1  0  ...        0        0        0        0   \n",
       "\n",
       "        tried_and_failedA  tried_and_failedB  tried_and_failedC  \\\n",
       "153421                  0                  0                  0   \n",
       "485561                  0                  0                  0   \n",
       "505492                  0                  1                  0   \n",
       "418732                  0                  0                  0   \n",
       "416077                  0                  1                  0   \n",
       "\n",
       "        contraindicationA  contraindicationB  contraindicationC  \n",
       "153421                  0                  0                  0  \n",
       "485561                  0                  0                  0  \n",
       "505492                  0                  0                  0  \n",
       "418732                  0                  0                  0  \n",
       "416077                  0                  0                  0  \n",
       "\n",
       "[5 rows x 28 columns]"
      ]
     },
     "execution_count": 26,
     "metadata": {},
     "output_type": "execute_result"
    }
   ],
   "source": [
    "X_inter_pre.head()"
   ]
  },
  {
   "cell_type": "markdown",
   "id": "d884ff9e",
   "metadata": {},
   "source": [
    "# 4. Save Data"
   ]
  },
  {
   "cell_type": "code",
   "execution_count": 27,
   "id": "2414b3f6",
   "metadata": {},
   "outputs": [],
   "source": [
    "# save dataframes as csv files\n",
    "\n",
    "X_pre.to_csv('data/X_pre',header = True, index = True)\n",
    "X_train.to_csv('data/X_train',header = True, index = True)\n",
    "X_test.to_csv('data/X_test',header = True, index = True)\n",
    "\n",
    "X_inter_pre.to_csv('data/X_inter_pre',header = True, index = True)\n",
    "X_inter_train.to_csv('data/X_inter_train',header = True, index = True)\n",
    "X_inter_test.to_csv('data/X_inter_test',header = True, index = True)\n",
    "\n",
    "y_pre.to_csv('data/y_pre',header = True, index = True)\n",
    "y_train.to_csv('data/y_train',header = True, index = True)\n",
    "y_test.to_csv('data/y_test',header = True, index = True)"
   ]
  }
 ],
 "metadata": {
  "kernelspec": {
   "display_name": "Python 3 (ipykernel)",
   "language": "python",
   "name": "python3"
  },
  "language_info": {
   "codemirror_mode": {
    "name": "ipython",
    "version": 3
   },
   "file_extension": ".py",
   "mimetype": "text/x-python",
   "name": "python",
   "nbconvert_exporter": "python",
   "pygments_lexer": "ipython3",
   "version": "3.9.12"
  }
 },
 "nbformat": 4,
 "nbformat_minor": 5
}
